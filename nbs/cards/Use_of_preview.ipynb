{
 "cells": [
  {
   "cell_type": "markdown",
   "id": "b9136abe-9810-427b-a72f-7bb90f1f1569",
   "metadata": {},
   "source": [
    "up:: [00_core](../00_core.ipynb#Edit_the_repo)"
   ]
  },
  {
   "cell_type": "markdown",
   "id": "6b4b6d6b-5735-403f-a4f7-d2d438637926",
   "metadata": {},
   "source": [
    "### Use of nbdev_preview\n",
    "Generate a preview of the notebooks in the current repository in HTML format to allows you preview the notebooks and see how they will look when rendered"
   ]
  },
  {
   "cell_type": "code",
   "execution_count": null,
   "id": "ce0d260b-5f02-4740-a868-7974379a9b12",
   "metadata": {},
   "outputs": [],
   "source": []
  }
 ],
 "metadata": {
  "kernelspec": {
   "display_name": "Python 3 (ipykernel)",
   "language": "python",
   "name": "python3"
  }
 },
 "nbformat": 4,
 "nbformat_minor": 5
}
