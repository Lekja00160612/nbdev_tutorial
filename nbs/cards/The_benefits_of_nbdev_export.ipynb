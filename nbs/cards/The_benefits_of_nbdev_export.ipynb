{
 "cells": [
  {
   "cell_type": "markdown",
   "id": "6593ab32-0316-40b6-ad55-1a27eccb9f5e",
   "metadata": {},
   "source": [
    "up:: [00_core](../00_core.ipynb#Edit_the_repo)"
   ]
  },
  {
   "cell_type": "markdown",
   "id": "cf5b8777-2dfa-4690-9169-6782fb64ec39",
   "metadata": {},
   "source": [
    "### The use of nbdev_export\n",
    "Converts Jupyter notebooks in repo into plain Python code and use as library in other projects. Helps code can be more reusable, maintainable and easier to integrate into other projects"
   ]
  },
  {
   "cell_type": "code",
   "execution_count": null,
   "id": "896569db-c38f-4e80-9118-be74d0e1cb7d",
   "metadata": {},
   "outputs": [],
   "source": []
  }
 ],
 "metadata": {
  "kernelspec": {
   "display_name": "Python 3 (ipykernel)",
   "language": "python",
   "name": "python3"
  }
 },
 "nbformat": 4,
 "nbformat_minor": 5
}
