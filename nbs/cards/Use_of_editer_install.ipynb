{
 "cells": [
  {
   "cell_type": "markdown",
   "id": "555ded38-b600-4e41-9d64-402ceff9126b",
   "metadata": {},
   "source": [
    "up:: [00_core](../00_core.ipynb#Edit_the_repo)"
   ]
  },
  {
   "cell_type": "markdown",
   "id": "ad55bef1-be56-40ed-bd48-eccfa1a2134c",
   "metadata": {},
   "source": [
    "### Use of install package with [dev]\n",
    "the command is used during the development of a Python package to allow the package to be installed and used in live environment while the source code is being edited."
   ]
  },
  {
   "cell_type": "code",
   "execution_count": null,
   "id": "9034a334-418c-4262-abcb-33e0d788af36",
   "metadata": {},
   "outputs": [],
   "source": []
  }
 ],
 "metadata": {
  "kernelspec": {
   "display_name": "Python 3 (ipykernel)",
   "language": "python",
   "name": "python3"
  }
 },
 "nbformat": 4,
 "nbformat_minor": 5
}
