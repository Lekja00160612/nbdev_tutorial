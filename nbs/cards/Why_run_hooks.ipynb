{
 "cells": [
  {
   "cell_type": "markdown",
   "id": "2773d4cb-31a4-46c3-91bc-437ee3b5ab02",
   "metadata": {},
   "source": [
    "up:: [00_core](../00_core.ipynb#Edit_the_repo)"
   ]
  },
  {
   "cell_type": "markdown",
   "id": "2ac97902-c409-4dca-bf40-170244277620",
   "metadata": {},
   "source": [
    "### The benefits of hooks\n",
    "Hooks ensure that the necessary checks and processes are run every time a change is made to the repo, such as converting the notebooks to Python files and checking for syntax errors, which helps to keep the code and the repo organized and consistent"
   ]
  }
 ],
 "metadata": {
  "kernelspec": {
   "display_name": "Python 3 (ipykernel)",
   "language": "python",
   "name": "python3"
  }
 },
 "nbformat": 4,
 "nbformat_minor": 5
}
