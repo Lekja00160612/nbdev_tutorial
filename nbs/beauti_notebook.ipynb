{
 "cells": [
  {
   "cell_type": "markdown",
   "id": "64544e70-f4b0-496d-ad40-1e057b3e117a",
   "metadata": {},
   "source": [
    "# beauti notebook\n",
    "\n",
    "> Directives are signals to render, but how to make notebook prettier?"
   ]
  },
  {
   "cell_type": "code",
   "execution_count": null,
   "id": "e0756314-b19f-42c0-897e-dbf46206e206",
   "metadata": {},
   "outputs": [],
   "source": []
  }
 ],
 "metadata": {
  "kernelspec": {
   "display_name": "Python 3 (ipykernel)",
   "language": "python",
   "name": "python3"
  }
 },
 "nbformat": 4,
 "nbformat_minor": 5
}
