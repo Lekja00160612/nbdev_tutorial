{
 "cells": [
  {
   "cell_type": "code",
   "execution_count": null,
   "metadata": {},
   "outputs": [],
   "source": [
    "#| hide\n",
    "from nbdev_tutorial.core import *"
   ]
  },
  {
   "cell_type": "markdown",
   "metadata": {},
   "source": [
    "# nbdev_tutorial\n",
    "\n",
    "> nbdev tutorial developed using nbdev for Gradients Tech internal use"
   ]
  },
  {
   "cell_type": "markdown",
   "metadata": {},
   "source": [
    "## How to use"
   ]
  },
  {
   "cell_type": "markdown",
   "metadata": {},
   "source": [
    "Every piece of code in this tutorial meant to run interactively. Follow the instructions, try to differentiate the `code file` and `rendered file` is the key!"
   ]
  },
  {
   "cell_type": "markdown",
   "metadata": {},
   "source": [
    "If any bug or unclear section found. Please contact `Gradients discord > working-group > nbdev_tutorial`. Feel free to contact us to contrib."
   ]
  },
  {
   "cell_type": "markdown",
   "metadata": {},
   "source": [
    "@contrib [pphuc25](https://github.com/pphuc25) [Lekko](https://github.com/Lekja00160612)"
   ]
  }
 ],
 "metadata": {
  "kernelspec": {
   "display_name": "Python 3 (ipykernel)",
   "language": "python",
   "name": "python3"
  }
 },
 "nbformat": 4,
 "nbformat_minor": 4
}
