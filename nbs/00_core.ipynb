{
 "cells": [
  {
   "cell_type": "markdown",
   "metadata": {},
   "source": [
    "# nbdev101\n",
    "\n",
    "> This notebook work as an index to guide you through the project"
   ]
  },
  {
   "cell_type": "code",
   "execution_count": null,
   "metadata": {},
   "outputs": [],
   "source": [
    "#| hide\n",
    "from nbdev.showdoc import *"
   ]
  },
  {
   "cell_type": "code",
   "execution_count": null,
   "metadata": {},
   "outputs": [],
   "source": [
    "#| hide\n",
    "import nbdev; nbdev.nbdev_export()"
   ]
  },
  {
   "cell_type": "markdown",
   "metadata": {},
   "source": [
    "#| default_exp core\n",
    "# Why nbdev?\n",
    "\n",
    "As an AI engineer, you mostly work with `.ipynb` files. While in production, `.py` files are compulsory for AI models to work with the Web backend. However, most newbies are suprisingly bad at software skills and unable to do the conversion. This is where [nbdev](https://nbdev.fast.ai) comes to the rescue.\n",
    "\n",
    "Nbdev is a battery-ready notebook development platform built on top of [Quarto](https://quarto.org). It allows:\n",
    "- Synchronous `.ipynb` and `.py` file\n",
    "- Lightning fast document using [markdown](https://www.markdownguide.org) [<sup>1</sup>](#markdown) while developing\n",
    "- Publish your package to PyPI or conda\n",
    "- [Continuous Integration](https://www.youtube.com/watch?v=8aV5AxJrHDg&list=PLZMWkkQEwOPmGolqJPsAm_4fcBDDc2to_) with git and launch your git page\n",
    "- Test, code, document in one place\n",
    "\n",
    "<span id=\"markdown\"> [1] Markdown is usually found in github repo by the name `README.md`, to learn more about Markdown go to `help > ma1rkdown reference` and enjoy the tutorial. Another in-depth option is to buy [The Markdown Guide\n",
    "By Matt Cone](https://www.markdownguide.org/book/) (or look it up in `./book`, we have downloaded the book there 🎶) </span>"
   ]
  },
  {
   "cell_type": "markdown",
   "metadata": {},
   "source": [
    "## Getting started\n",
    "In this tutorial, we minimize reinventing the wheels. This is throughout the tutorial, most links and instructions will be used as intermediate steps to achieve our final goals. **Please follow the instructions carefully!**"
   ]
  },
  {
   "cell_type": "markdown",
   "metadata": {},
   "source": [
    "### First nbdev repo\n",
    "#### Link\n",
    "You will use **[nbdev official tutorial](https://nbdev.fast.ai/tutorials/tutorial.html#install-nbdev)** to publish your first [github page](https://pages.github.com) (`<your_username>.github.io`) [<sup>1</sup>](#githubpage)\n",
    "\n",
    "### Instruction\n",
    "#### In this tutorial, as we are already using JupyterHub, no need to reinstall notebook, these are steps you need to follow *sequentially*:\n",
    "1. Install `nbdev` via `conda`\n",
    "\n",
    "2. Install `quarto` via nbdev provided command (There might be ubuntu missing tools like `Curl`. Try to install these tools yourself or ask for support)\n",
    "\n",
    "3. Create a empty github repo and clone it to your local machine\n",
    "\n",
    "4. Initialise your nbdev repo (without the previous step, you will be asked for additional information)\n",
    "\n",
    "5. Push the initialised nbdev repo to github\n",
    "    1. `git push` requires github `username` & `password`. In order to login github securely, we create `Personal Access Token` by navigate to [github profile](https://github.com/settings/profile) `Developer settings > Personal Access Token - classic > Generate new token`. During `git push`, do not enter your password, instead, fill `password` with the PAT\n",
    "    2. After push your nbdev repo to github, navigate to `Actions`, you should see fail CI job. This is because by default github limits PAT permission, go to **repo settings** `Settings > Actions > General > Workflow permissions > Read and write permission > Save`. Now rerun your CI and it should work now\n",
    "6. Enable github page\n",
    "7. Check your github page (`<username>.github.io/<reponame>`)\n",
    "\n",
    "*Please check these steps carefully. If any error appear, please report to your supervisor.*\n",
    "    \n",
    "<span id=\"githubpage\"> [1] You can find more github page examples on [github official site](https://github.com/collections/github-pages-examples)</span>\n"
   ]
  },
  {
   "cell_type": "code",
   "execution_count": null,
   "metadata": {},
   "outputs": [],
   "source": []
  }
 ],
 "metadata": {
  "kernelspec": {
   "display_name": "Python 3 (ipykernel)",
   "language": "python",
   "name": "python3"
  }
 },
 "nbformat": 4,
 "nbformat_minor": 4
}
