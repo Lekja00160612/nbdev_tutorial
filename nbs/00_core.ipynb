{
 "cells": [
  {
   "cell_type": "markdown",
   "metadata": {},
   "source": [
    "# nbdev101\n",
    "\n",
    "> This notebook works as an index to guide you through the project"
   ]
  },
  {
   "cell_type": "code",
   "execution_count": null,
   "metadata": {},
   "outputs": [],
   "source": [
    "#| hide\n",
    "from nbdev.showdoc import *"
   ]
  },
  {
   "cell_type": "code",
   "execution_count": null,
   "metadata": {},
   "outputs": [
    {
     "ename": "FileNotFoundError",
     "evalue": "[Errno 2] No such file or directory: '/home/nstung/work/nbdev/nbdev'",
     "output_type": "error",
     "traceback": [
      "\u001b[0;31m---------------------------------------------------------------------------\u001b[0m",
      "\u001b[0;31mFileNotFoundError\u001b[0m                         Traceback (most recent call last)",
      "Cell \u001b[0;32mIn[7], line 2\u001b[0m\n\u001b[1;32m      1\u001b[0m \u001b[38;5;66;03m#| hide\u001b[39;00m\n\u001b[0;32m----> 2\u001b[0m \u001b[38;5;28;01mimport\u001b[39;00m \u001b[38;5;21;01mnbdev\u001b[39;00m; \u001b[43mnbdev\u001b[49m\u001b[38;5;241;43m.\u001b[39;49m\u001b[43mnbdev_export\u001b[49m\u001b[43m(\u001b[49m\u001b[43m)\u001b[49m\n",
      "File \u001b[0;32m/opt/conda/lib/python3.10/site-packages/fastcore/script.py:110\u001b[0m, in \u001b[0;36mcall_parse.<locals>._f\u001b[0;34m(*args, **kwargs)\u001b[0m\n\u001b[1;32m    107\u001b[0m \u001b[38;5;129m@wraps\u001b[39m(func)\n\u001b[1;32m    108\u001b[0m \u001b[38;5;28;01mdef\u001b[39;00m \u001b[38;5;21m_f\u001b[39m(\u001b[38;5;241m*\u001b[39margs, \u001b[38;5;241m*\u001b[39m\u001b[38;5;241m*\u001b[39mkwargs):\n\u001b[1;32m    109\u001b[0m     mod \u001b[38;5;241m=\u001b[39m inspect\u001b[38;5;241m.\u001b[39mgetmodule(inspect\u001b[38;5;241m.\u001b[39mcurrentframe()\u001b[38;5;241m.\u001b[39mf_back)\n\u001b[0;32m--> 110\u001b[0m     \u001b[38;5;28;01mif\u001b[39;00m \u001b[38;5;129;01mnot\u001b[39;00m mod: \u001b[38;5;28;01mreturn\u001b[39;00m \u001b[43mfunc\u001b[49m\u001b[43m(\u001b[49m\u001b[38;5;241;43m*\u001b[39;49m\u001b[43margs\u001b[49m\u001b[43m,\u001b[49m\u001b[43m \u001b[49m\u001b[38;5;241;43m*\u001b[39;49m\u001b[38;5;241;43m*\u001b[39;49m\u001b[43mkwargs\u001b[49m\u001b[43m)\u001b[49m\n\u001b[1;32m    111\u001b[0m     \u001b[38;5;28;01mif\u001b[39;00m \u001b[38;5;129;01mnot\u001b[39;00m SCRIPT_INFO\u001b[38;5;241m.\u001b[39mfunc \u001b[38;5;129;01mand\u001b[39;00m mod\u001b[38;5;241m.\u001b[39m\u001b[38;5;18m__name__\u001b[39m\u001b[38;5;241m==\u001b[39m\u001b[38;5;124m\"\u001b[39m\u001b[38;5;124m__main__\u001b[39m\u001b[38;5;124m\"\u001b[39m: SCRIPT_INFO\u001b[38;5;241m.\u001b[39mfunc \u001b[38;5;241m=\u001b[39m func\u001b[38;5;241m.\u001b[39m\u001b[38;5;18m__name__\u001b[39m\n\u001b[1;32m    112\u001b[0m     \u001b[38;5;28;01mif\u001b[39;00m \u001b[38;5;28mlen\u001b[39m(sys\u001b[38;5;241m.\u001b[39margv)\u001b[38;5;241m>\u001b[39m\u001b[38;5;241m1\u001b[39m \u001b[38;5;129;01mand\u001b[39;00m sys\u001b[38;5;241m.\u001b[39margv[\u001b[38;5;241m1\u001b[39m]\u001b[38;5;241m==\u001b[39m\u001b[38;5;124m'\u001b[39m\u001b[38;5;124m'\u001b[39m: sys\u001b[38;5;241m.\u001b[39margv\u001b[38;5;241m.\u001b[39mpop(\u001b[38;5;241m1\u001b[39m)\n",
      "File \u001b[0;32m/opt/conda/lib/python3.10/site-packages/nbdev/doclinks.py:138\u001b[0m, in \u001b[0;36mnbdev_export\u001b[0;34m(path, **kwargs)\u001b[0m\n\u001b[1;32m    136\u001b[0m files \u001b[38;5;241m=\u001b[39m nbglob(path\u001b[38;5;241m=\u001b[39mpath, \u001b[38;5;241m*\u001b[39m\u001b[38;5;241m*\u001b[39mkwargs)\n\u001b[1;32m    137\u001b[0m \u001b[38;5;28;01mfor\u001b[39;00m f \u001b[38;5;129;01min\u001b[39;00m files: nb_export(f)\n\u001b[0;32m--> 138\u001b[0m \u001b[43madd_init\u001b[49m\u001b[43m(\u001b[49m\u001b[43mget_config\u001b[49m\u001b[43m(\u001b[49m\u001b[43m)\u001b[49m\u001b[38;5;241;43m.\u001b[39;49m\u001b[43mlib_path\u001b[49m\u001b[43m)\u001b[49m\n\u001b[1;32m    139\u001b[0m _build_modidx()\n",
      "File \u001b[0;32m/opt/conda/lib/python3.10/site-packages/nbdev/config.py:240\u001b[0m, in \u001b[0;36madd_init\u001b[0;34m(path)\u001b[0m\n\u001b[1;32m    238\u001b[0m \u001b[38;5;66;03m# we add the lowest-level `__init__.py` files first, which ensures _has_py succeeds for parent modules\u001b[39;00m\n\u001b[1;32m    239\u001b[0m path \u001b[38;5;241m=\u001b[39m Path(path \u001b[38;5;129;01mor\u001b[39;00m get_config()\u001b[38;5;241m.\u001b[39mlib_path)\n\u001b[0;32m--> 240\u001b[0m \u001b[43mpath\u001b[49m\u001b[38;5;241;43m.\u001b[39;49m\u001b[43mmkdir\u001b[49m\u001b[43m(\u001b[49m\u001b[43mexist_ok\u001b[49m\u001b[38;5;241;43m=\u001b[39;49m\u001b[38;5;28;43;01mTrue\u001b[39;49;00m\u001b[43m)\u001b[49m\n\u001b[1;32m    241\u001b[0m \u001b[38;5;28;01mif\u001b[39;00m \u001b[38;5;129;01mnot\u001b[39;00m (path\u001b[38;5;241m/\u001b[39m_init)\u001b[38;5;241m.\u001b[39mexists(): (path\u001b[38;5;241m/\u001b[39m_init)\u001b[38;5;241m.\u001b[39mtouch()\n\u001b[1;32m    242\u001b[0m \u001b[38;5;28;01mfor\u001b[39;00m r,ds,fs \u001b[38;5;129;01min\u001b[39;00m os\u001b[38;5;241m.\u001b[39mwalk(path, topdown\u001b[38;5;241m=\u001b[39m\u001b[38;5;28;01mFalse\u001b[39;00m):\n",
      "File \u001b[0;32m/opt/conda/lib/python3.10/pathlib.py:1175\u001b[0m, in \u001b[0;36mPath.mkdir\u001b[0;34m(self, mode, parents, exist_ok)\u001b[0m\n\u001b[1;32m   1171\u001b[0m \u001b[38;5;250m\u001b[39m\u001b[38;5;124;03m\"\"\"\u001b[39;00m\n\u001b[1;32m   1172\u001b[0m \u001b[38;5;124;03mCreate a new directory at this given path.\u001b[39;00m\n\u001b[1;32m   1173\u001b[0m \u001b[38;5;124;03m\"\"\"\u001b[39;00m\n\u001b[1;32m   1174\u001b[0m \u001b[38;5;28;01mtry\u001b[39;00m:\n\u001b[0;32m-> 1175\u001b[0m     \u001b[38;5;28;43mself\u001b[39;49m\u001b[38;5;241;43m.\u001b[39;49m\u001b[43m_accessor\u001b[49m\u001b[38;5;241;43m.\u001b[39;49m\u001b[43mmkdir\u001b[49m\u001b[43m(\u001b[49m\u001b[38;5;28;43mself\u001b[39;49m\u001b[43m,\u001b[49m\u001b[43m \u001b[49m\u001b[43mmode\u001b[49m\u001b[43m)\u001b[49m\n\u001b[1;32m   1176\u001b[0m \u001b[38;5;28;01mexcept\u001b[39;00m \u001b[38;5;167;01mFileNotFoundError\u001b[39;00m:\n\u001b[1;32m   1177\u001b[0m     \u001b[38;5;28;01mif\u001b[39;00m \u001b[38;5;129;01mnot\u001b[39;00m parents \u001b[38;5;129;01mor\u001b[39;00m \u001b[38;5;28mself\u001b[39m\u001b[38;5;241m.\u001b[39mparent \u001b[38;5;241m==\u001b[39m \u001b[38;5;28mself\u001b[39m:\n",
      "\u001b[0;31mFileNotFoundError\u001b[0m: [Errno 2] No such file or directory: '/home/nstung/work/nbdev/nbdev'"
     ]
    }
   ],
   "source": [
    "#| hide\n",
    "import nbdev; nbdev.nbdev_export()"
   ]
  },
  {
   "cell_type": "markdown",
   "metadata": {},
   "source": [
    "## Why nbdev?\n",
    "\n",
    "As an AI engineer, you mostly work with `.ipynb` files. While in production, `.py` files are compulsory for AI models to work with the Web backend. However, most newbies are suprisingly bad at software skills and unable to do the conversion. This is where [nbdev](https://nbdev.fast.ai) comes to the rescue.\n",
    "\n",
    "Nbdev is a battery-ready notebook development platform built on top of [Quarto](https://quarto.org). It allows:\n",
    "- Synchronous `.ipynb` and `.py` file\n",
    "- Lightning fast document using [markdown](https://www.markdownguide.org) [<sup>1</sup>](#markdown) while developing\n",
    "- Publish your package to PyPI or conda\n",
    "- [Continuous Integration](https://www.youtube.com/watch?v=8aV5AxJrHDg&list=PLZMWkkQEwOPmGolqJPsAm_4fcBDDc2to_) with git and launch your git page\n",
    "- Test, code, document in one place\n",
    "\n",
    "<span id=\"markdown\"> [1] Markdown is usually found in github repo by the name `README.md`, to learn more about Markdown go to `help > markdown reference` and enjoy the tutorial. Another in-depth option is to buy [The Markdown Guide\n",
    "By Matt Cone](https://www.markdownguide.org/book/) (or look it up in `./book`, we have downloaded the book there 🎶) </span>"
   ]
  },
  {
   "cell_type": "markdown",
   "metadata": {},
   "source": [
    "## Getting started\n",
    "In this tutorial, we minimize reinventing the wheels. This is throughout the tutorial, most links and instructions will be used as intermediate steps to achieve our final goals. **Please follow the instructions carefully!**"
   ]
  },
  {
   "cell_type": "markdown",
   "metadata": {},
   "source": [
    "### First nbdev repo\n",
    "#### Link\n",
    "You will use **[nbdev official tutorial](https://nbdev.fast.ai/tutorials/tutorial.html#install-nbdev)** to publish your first [github page](https://pages.github.com) (`<your_username>.github.io`) [<sup>1</sup>](#githubpage)\n",
    "\n",
    "#### Instruction\n",
    "##### In this tutorial, as we are already using JupyterHub, no need to reinstall notebook, these are steps you need to follow *sequentially*:\n",
    "1. Install `nbdev` via `conda`\n",
    "\n",
    "2. Install `quarto` via nbdev provided command (There might be ubuntu missing tools like `Curl`. Try to install these tools yourself or ask for support)\n",
    "\n",
    "3. Create a empty github repo and clone it to your local machine\n",
    "\n",
    "4. Initialise your nbdev repo (without the previous step, you will be asked for additional information)\n",
    "\n",
    "5. Push the initialised nbdev repo to github\n",
    "    1. `git push` requires github `username` & `password`. In order to login github securely, we create `Personal Access Token` by navigate to [github profile](https://github.com/settings/profile) `Developer settings > Personal Access Token - classic > Generate new token`. During `git push`, do not enter your password, instead, fill `password` with the PAT\n",
    "    2. After push your nbdev repo to github, navigate to `Actions`, you should see fail CI job. This is because by default github limits PAT permission, go to **repo settings** `Settings > Actions > General > Workflow permissions > Read and write permission > Save`. Now rerun your CI and it should work now\n",
    "6. Enable github page\n",
    "7. Check your github page (`<username>.github.io/<reponame>`)\n",
    "\n",
    "*Please check these steps carefully. If any error appear, please report to your supervisor.*\n",
    "    \n",
    "<span id=\"githubpage\"> [1] You can find more github page examples on [github official site](https://github.com/collections/github-pages-examples)</span>\n"
   ]
  },
  {
   "cell_type": "markdown",
   "metadata": {},
   "source": [
    "### Edit the repo {#sec_edit_the_repo}\n",
    "#### Link\n",
    "To edit the repository, follow the instructions in the tutorial [Make your first edit](https://nbdev.fast.ai/tutorials/tutorial.html#make-your-first-edit).\n",
    "\n",
    "#### Instruction\n",
    "This tutorial is for those who want to maintain their repository and the steps are summarized below. Optional steps, indicated by the text **O::** is for meaning can be skipped if they are not necessary.\n",
    "\n",
    "1. **Install hooks** using the command `nbdev_install_hooks`. *You can learn about the **benefits of hooks** by following this [link](cards/Why_run_hooks.ipynb)*\n",
    "<details>\n",
    "<summary>**The benefits of hooks**</summary>\n",
    "Hooks ensure that the necessary checks and processes are run every time a change is made to the repo, such as converting the notebooks to Python files and checking for syntax errors, which helps to keep the code and the repo organized and consistent\n",
    "</details>\n",
    "\n",
    "2. **Build your library** using the command `nbdev_export`. *Learn more about the benefits of `nbdev_export` by following this [link](cards/The_benefits_of_nbdev_export.ipynb)*\n",
    "<details>\n",
    "<summary>**The use of nbdev_export**</summary>\n",
    "Converts Jupyter notebooks in repo into plain Python code and use as library in other projects. Helps code can be more reusable, maintainable and easier to integrate into other projects.\n",
    "</details>\n",
    "\n",
    "- O:: **Install your package**: Using the command `pip install -e '.[dev]'`. *Learn more about the use of the `install` package in [dev] by following this [link](cards/Use_of_editer_install.ipynb)*. If you make changes to the code that do not affect the installation process (such as adding new features or fixing bugs), you may not need to run this command.\n",
    "<details>\n",
    "<summary>**Use of install package with [dev]**</summary>\n",
    "The command is used during the development of a Python package to allow the package to be installed and used in live environment while the source code is being edited.\n",
    "</details>\n",
    "\n",
    "- O:: **Preview your docs**: Using the command `nbdev_preview`. *Learn more about the use of `nbdev_preview` by folling this [link](cards/Use_of_preview.ipynb)*. When you run the command, the terminal will display a browser link. Click on it to view the preview.\n",
    "<details>\n",
    "<summary>**Use of nbdev_preview**</summary>\n",
    "Generate a preview of the notebooks in the current repository in HTML format to allows you preview the notebooks and see how they will look when rendered.\n",
    "</details>\n",
    "\n",
    "3. **Edit .ipynb**: The edit such as frontmatter, function will be clearly in [Directives](02_directives.ipynb)\n",
    "\n",
    "4. **Prepare your change** using the command `nbdev_prepare` **before commit** to ensure your modules are properly exported and your tests pass.\n",
    "\n",
    "5. **Push to Github**: The error can occur because you forgot to run `nbdev_prepare`. So remember run this command before push to github. The commands to push to github\n",
    "```\n",
    "git add .\n",
    "git commit -m 'your description'\n",
    "git push\n",
    "```"
   ]
  },
  {
   "cell_type": "markdown",
   "metadata": {},
   "source": [
    "## "
   ]
  }
 ],
 "metadata": {
  "kernelspec": {
   "display_name": "Python 3 (ipykernel)",
   "language": "python",
   "name": "python3"
  }
 },
 "nbformat": 4,
 "nbformat_minor": 4
}
