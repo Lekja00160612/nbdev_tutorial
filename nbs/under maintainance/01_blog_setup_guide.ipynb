{
 "cells": [
  {
   "cell_type": "markdown",
   "id": "87f4b9d8-b417-4193-a53b-5fac75f0575a",
   "metadata": {},
   "source": [
    "# Blog setup guide"
   ]
  },
  {
   "cell_type": "markdown",
   "id": "8942d7ba-db17-47eb-9fbd-cd92f1f1823a",
   "metadata": {},
   "source": [
    "1. Create a `blog/` directory in your notebooks folder.\n",
    "2. Create a `index.qmd` file in the root of the `blog/` directory. This file signal Quarto that you are creating a blog and config how blogs are indexed. \n",
    "    Change your `title` and `subtitle`\\\n",
    "    Change the `listing` below in case you creating a [different layout in Quarto](https://quarto.org/docs/websites/website-blog.html)"
   ]
  },
  {
   "cell_type": "code",
   "execution_count": null,
   "id": "ef2ddf4c-a908-47bd-aa79-d92fd25ef851",
   "metadata": {},
   "outputs": [
    {
     "name": "stdout",
     "output_type": "stream",
     "text": [
      "mkdir: cannot create directory ‘blog’: File exists\n"
     ]
    }
   ],
   "source": [
    "## step 1\n",
    "!mkdir blog\n",
    "\n",
    "## step 2\n",
    "!touch blog/index.qmd\n",
    "\n",
    "content = \\\n",
    "\"\"\"---\n",
    "title: nbdev guide\n",
    "subtitle: Tips to work with nbdev in your AI project\n",
    "listing:\n",
    "    sort: \"date desc\"\n",
    "    contents: \"posts\"\n",
    "    sort-ui: false\n",
    "    filter-ui: false\n",
    "    categories: true\n",
    "    feed: true\n",
    "page-layout: full\n",
    "---\"\"\"\n",
    "\n",
    "with open('./blog/index.qmd','w') as f:\n",
    "    f.write(content)"
   ]
  },
  {
   "cell_type": "code",
   "execution_count": null,
   "id": "17f85556-8b93-40bb-99a7-1b25b8f2aec8",
   "metadata": {},
   "outputs": [
    {
     "name": "stdout",
     "output_type": "stream",
     "text": [
      "--2023-01-31 12:07:06--  https://dl.icdst.org/pdfs/files3/c79990b0b853932d36ddc117ce2503e3.pdf\n",
      "Resolving dl.icdst.org (dl.icdst.org)... 104.21.18.119, 172.67.181.206, 2606:4700:3034::6815:1277, ...\n",
      "Connecting to dl.icdst.org (dl.icdst.org)|104.21.18.119|:443... connected.\n",
      "HTTP request sent, awaiting response... 200 OK\n",
      "Length: 3494936 (3.3M) [application/pdf]\n",
      "Saving to: ‘book/markdown_guide.pdf’\n",
      "\n",
      "book/markdown_guide 100%[===================>]   3.33M  4.71MB/s    in 0.7s    \n",
      "\n",
      "2023-01-31 12:07:07 (4.71 MB/s) - ‘book/markdown_guide.pdf’ saved [3494936/3494936]\n",
      "\n"
     ]
    }
   ],
   "source": [
    "!mkdir book\n",
    "!touch book/markdown_guide.pdf\n",
    "!wget -O book/markdown_guide.pdf https://dl.icdst.org/pdfs/files3/c79990b0b853932d36ddc117ce2503e3.pdf"
   ]
  },
  {
   "cell_type": "code",
   "execution_count": null,
   "id": "77b7f229-7702-4424-91bc-31a5c9a7eaf8",
   "metadata": {},
   "outputs": [],
   "source": []
  }
 ],
 "metadata": {
  "kernelspec": {
   "display_name": "Python 3 (ipykernel)",
   "language": "python",
   "name": "python3"
  }
 },
 "nbformat": 4,
 "nbformat_minor": 5
}
