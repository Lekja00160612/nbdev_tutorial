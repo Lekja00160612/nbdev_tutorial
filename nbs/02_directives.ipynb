{
 "cells": [
  {
   "cell_type": "markdown",
   "id": "a4e42f8c-fe65-4168-876a-cd75b5e00fe4",
   "metadata": {},
   "source": [
    "# Directives\n",
    "\n",
    "> Wonder what `#|export` is for? Read this tutorial"
   ]
  },
  {
   "cell_type": "markdown",
   "id": "eab87980-2568-4ab1-9747-e1650b3a0a42",
   "metadata": {},
   "source": [
    "## What are directives?\n",
    "\n",
    "> Learn more at [official document](https://quarto.org/docs/reference/cells/cells-jupyter.html)\n",
    "\n",
    "Directives are decorator of cells, used as signal for Quarto during rendering process. Their capabilities include:\n",
    "- Attributes\n",
    "- Code Output\n",
    "- Cell Output\n",
    "- Figures\n",
    "- Tables\n",
    "- Panel Layout\n",
    "- Page Columns"
   ]
  },
  {
   "cell_type": "markdown",
   "id": "249125d4-a8e6-4558-ad93-5befac805b8c",
   "metadata": {},
   "source": [
    "## Tutorial\n",
    "In this tutorial, we note down most unique capabilities of directives. You should be using all of these in a common project. Nbdev officially provide a [cheatsheet](https://nbdev.fast.ai/explanations/directives.html) for directives."
   ]
  },
  {
   "cell_type": "markdown",
   "id": "a0331f48-fbce-4158-9ecb-4e8f3b2eaa79",
   "metadata": {},
   "source": [
    "### Cell visibility\n",
    "\n",
    "A cell include 2 parts: `code` and `output`. Basically, there are directives to enable or disable individual component that you must notice.\n",
    "\n",
    "*Note: render process will only display output if you executed the cell and had the output already. If you want Quarto to re-execute the cell during **rendering** or control during **testing**, see @sec-cell-execution*"
   ]
  },
  {
   "cell_type": "code",
   "execution_count": null,
   "id": "d6ab3cc5-eebf-46cd-b0b4-10830c6c0961",
   "metadata": {},
   "outputs": [
    {
     "name": "stdout",
     "output_type": "stream",
     "text": [
      "you will not see both the code and the output after rendering\n"
     ]
    }
   ],
   "source": [
    "#|hide\n",
    "print('you will not see both the code and the output after rendering')"
   ]
  },
  {
   "cell_type": "code",
   "execution_count": null,
   "id": "986adc1c-9bd2-401a-a59b-9ceb67ca3e59",
   "metadata": {},
   "outputs": [
    {
     "name": "stdout",
     "output_type": "stream",
     "text": [
      "you will not see the code after rendering\n"
     ]
    }
   ],
   "source": [
    "#|echo: false\n",
    "print('you will not see the code after rendering')"
   ]
  },
  {
   "cell_type": "code",
   "execution_count": null,
   "id": "bdebe1b6-cc1a-4c35-b79d-efd865f02b03",
   "metadata": {},
   "outputs": [
    {
     "name": "stdout",
     "output_type": "stream",
     "text": [
      "you will not see the output after rendering\n"
     ]
    }
   ],
   "source": [
    "#|output: false\n",
    "print('you will not see the output after rendering')"
   ]
  },
  {
   "cell_type": "markdown",
   "id": "cbdac649-b784-4471-a29b-73a522b13e93",
   "metadata": {},
   "source": [
    "You may need more fine-grained control over the output such as printing warnings and errors. In those cases, Quarto provide `#|error` and `#|warning`. More control over output can be found [here](https://quarto.org/docs/reference/cells/cells-jupyter.html#cell-output)."
   ]
  },
  {
   "cell_type": "code",
   "execution_count": null,
   "id": "78bccdbd-2f87-4ba1-9c52-77fc5b7e944f",
   "metadata": {},
   "outputs": [
    {
     "name": "stdout",
     "output_type": "stream",
     "text": [
      "You will only see the output and the code is folded by default\n"
     ]
    }
   ],
   "source": [
    "#|code-fold: True\n",
    "print('You will only see the output and the code is folded by default')"
   ]
  },
  {
   "cell_type": "markdown",
   "id": "c913ae5a-43c5-40df-a2ad-8a8380bb36a6",
   "metadata": {},
   "source": [
    "### Cell execution {#sec-cell-execution}"
   ]
  },
  {
   "cell_type": "markdown",
   "id": "4f13781a-92f0-4747-9185-92d61618b943",
   "metadata": {},
   "source": [
    "*Import and execution must be in different cell*\n",
    "\n",
    "Default `nbdev` execution behavior is that only the cell contains `show_doc()` will be re-executed. More [here](https://nbdev.fast.ai/explanations/docs.html#automatic-cell-execution)!"
   ]
  },
  {
   "cell_type": "code",
   "execution_count": null,
   "id": "ce76927a-7750-4699-82cb-68743c049942",
   "metadata": {},
   "outputs": [],
   "source": [
    "#|hide\n",
    "import time"
   ]
  },
  {
   "cell_type": "code",
   "execution_count": null,
   "id": "b544eb11-8bd1-4263-96a2-00ab87e0b070",
   "metadata": {},
   "outputs": [
    {
     "name": "stdout",
     "output_type": "stream",
     "text": [
      "this cell will be re-executing during rendering\n",
      "time.struct_time(tm_year=2023, tm_mon=2, tm_mday=1, tm_hour=14, tm_min=40, tm_sec=23, tm_wday=2, tm_yday=32, tm_isdst=0)\n"
     ]
    }
   ],
   "source": [
    "#|exec_doc\n",
    "print('this cell will be re-executing during rendering')\n",
    "print(time.localtime())"
   ]
  },
  {
   "cell_type": "code",
   "execution_count": null,
   "id": "8ee4851f-6ca8-4bdc-b224-532d0c8224a5",
   "metadata": {},
   "outputs": [
    {
     "ename": "Exception",
     "evalue": "this cell will not be checked during testing or rendering",
     "output_type": "error",
     "traceback": [
      "\u001b[0;31m---------------------------------------------------------------------------\u001b[0m",
      "\u001b[0;31mException\u001b[0m                                 Traceback (most recent call last)",
      "Cell \u001b[0;32mIn[26], line 2\u001b[0m\n\u001b[1;32m      1\u001b[0m \u001b[38;5;66;03m#|eval: false\u001b[39;00m\n\u001b[0;32m----> 2\u001b[0m \u001b[38;5;28;01mraise\u001b[39;00m \u001b[38;5;167;01mException\u001b[39;00m(\u001b[38;5;124m\"\u001b[39m\u001b[38;5;124mthis cell will not be checked during testing or rendering\u001b[39m\u001b[38;5;124m\"\u001b[39m)\n",
      "\u001b[0;31mException\u001b[0m: this cell will not be checked during testing or rendering"
     ]
    }
   ],
   "source": [
    "#|eval: false\n",
    "raise Exception(\"this cell will not be checked during testing or rendering\")"
   ]
  },
  {
   "cell_type": "markdown",
   "id": "34774d28-85b9-497b-bc25-36c33be5fb48",
   "metadata": {},
   "source": [
    "### Generating source code"
   ]
  },
  {
   "cell_type": "markdown",
   "id": "31444aac-9c71-4a67-9b94-b01805c14a6b",
   "metadata": {},
   "source": [
    "#### #|default_exp <name>"
   ]
  },
  {
   "cell_type": "markdown",
   "id": "ca88bfc2-9b49-403c-b101-db4d6a582575",
   "metadata": {},
   "source": [
    ":::{.callout-caution}\n",
    "This directive is notebook level and should only appear once in one notebook\n",
    ":::"
   ]
  },
  {
   "cell_type": "markdown",
   "id": "fe374a45-5409-461e-89a9-acbbc3d8a088",
   "metadata": {},
   "source": [
    "```{python}\n",
    "#| echo: fenced\n",
    "#|default_exp baz\n",
    "\n",
    "# In a new notebook cell:\n",
    "\n",
    "#|export\n",
    "def my_function(): pass\n",
    "```\n",
    "\n",
    "If our package is named: bitsnbytes then we can do:\n",
    "\n",
    "`from bitsnbytes.baz import my_function`\n",
    "\n",
    "You can define the package name by using lib_name in settings.ini."
   ]
  },
  {
   "cell_type": "markdown",
   "id": "98a2662c-72cc-4823-9cc2-6724f262f0bd",
   "metadata": {},
   "source": [
    "#### #|export\n",
    "```\n",
    "def say_hello(to:str # name of person to say hello to\n",
    "             ):\n",
    "    \"Say hello to somebody\"\n",
    "    return f'Hello {to}!'\n",
    "```\n",
    "\n",
    "This `say_hello` will then be export to default package set by `#|default_exp`. If you want to export to specific package, use `#|export <package_name>`.\n",
    "\n",
    "```\n",
    "from <package_name> import say_hello\n",
    "```\n",
    "\n",
    "There are situations that you do not want to export private function since it only work as intermediate steps for other functions. Please use `#|exporti` or name your function with suffix `_`, for example `def _private`. \n",
    "\n",
    "In normal cases, `show_doc()` only shows the metadata. To include the code itself, use `#|exports` directive. (notice the `s`)"
   ]
  },
  {
   "cell_type": "markdown",
   "id": "27d1ad62-2f75-4108-9e1f-a80c66653210",
   "metadata": {},
   "source": [
    "### Callout\n",
    "This is the new feature of Quarto. [Callouts](https://quarto.org/docs/blog/posts/2022-02-13-feature-callouts/) mainly function as colourful note."
   ]
  },
  {
   "cell_type": "code",
   "execution_count": null,
   "id": "fd4df6fb-4725-4c49-a8ec-4ad156775615",
   "metadata": {},
   "outputs": [],
   "source": [
    "# https://quarto.org/docs/authoring/cross-references.html#overview"
   ]
  }
 ],
 "metadata": {
  "kernelspec": {
   "display_name": "Python 3 (ipykernel)",
   "language": "python",
   "name": "python3"
  }
 },
 "nbformat": 4,
 "nbformat_minor": 5
}
